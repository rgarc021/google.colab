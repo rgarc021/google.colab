{
  "nbformat": 4,
  "nbformat_minor": 0,
  "metadata": {
    "colab": {
      "provenance": [],
      "authorship_tag": "ABX9TyM0nrr2q0dO3++0vPUtK3zt",
      "include_colab_link": true
    },
    "kernelspec": {
      "name": "python3",
      "display_name": "Python 3"
    },
    "language_info": {
      "name": "python"
    }
  },
  "cells": [
    {
      "cell_type": "markdown",
      "metadata": {
        "id": "view-in-github",
        "colab_type": "text"
      },
      "source": [
        "<a href=\"https://colab.research.google.com/github/rgarc021/google.colab/blob/main/Activity2.ipynb\" target=\"_parent\"><img src=\"https://colab.research.google.com/assets/colab-badge.svg\" alt=\"Open In Colab\"/></a>"
      ]
    },
    {
      "cell_type": "code",
      "execution_count": null,
      "metadata": {
        "colab": {
          "base_uri": "https://localhost:8080/"
        },
        "id": "7UFx28PLSSnE",
        "outputId": "328dd4eb-05c2-4a87-d51a-2b7d27fe5621"
      },
      "outputs": [
        {
          "output_type": "stream",
          "name": "stdout",
          "text": [
            "6\n"
          ]
        }
      ],
      "source": [
        "breakfast = ['apple', 'egg', 'ham', 'donut', 'bagels', 'sausage']\n"
      ]
    },
    {
      "cell_type": "code",
      "source": [
        "breakfast_length = list(filter(lambda breakfast: True if len(breakfast) > 3 else False, breakfast))\n",
        "print(breakfast_length)"
      ],
      "metadata": {
        "colab": {
          "base_uri": "https://localhost:8080/"
        },
        "id": "j5iRiB7ySZM5",
        "outputId": "e079167b-b75f-47c3-b5cd-6d6dc88ac03a"
      },
      "execution_count": null,
      "outputs": [
        {
          "output_type": "stream",
          "name": "stdout",
          "text": [
            "['apple', 'donut', 'bagels', 'sausage']\n"
          ]
        }
      ]
    }
  ]
}